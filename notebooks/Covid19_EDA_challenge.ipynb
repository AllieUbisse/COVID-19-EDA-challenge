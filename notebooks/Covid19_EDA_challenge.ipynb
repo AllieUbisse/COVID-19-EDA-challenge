{
  "nbformat": 4,
  "nbformat_minor": 0,
  "metadata": {
    "colab": {
      "name": "Covid19_EDA_challenge.ipynb",
      "provenance": [],
      "collapsed_sections": [],
      "include_colab_link": true
    },
    "kernelspec": {
      "name": "python3",
      "display_name": "Python 3"
    }
  },
  "cells": [
    {
      "cell_type": "markdown",
      "metadata": {
        "id": "view-in-github",
        "colab_type": "text"
      },
      "source": [
        "<a href=\"https://colab.research.google.com/github/AllieUbisse/COVID-19-EDA-challenge/blob/master/notebooks/Covid19_EDA_challenge.ipynb\" target=\"_parent\"><img src=\"https://colab.research.google.com/assets/colab-badge.svg\" alt=\"Open In Colab\"/></a>"
      ]
    },
    {
      "cell_type": "markdown",
      "metadata": {
        "id": "ELNSDDVEG3is",
        "colab_type": "text"
      },
      "source": [
        "# API starter:\n",
        "\n",
        "Welcome to the COVID-19 challenge! Flex your amazing python and pandas skills to build an informative analysis. \n",
        "\n",
        "Use this notebook to connect to the COVID-19 database for access to our datasources.\n",
        "\n",
        "Use [these API's](https://ijvcpr9af1.execute-api.eu-west-1.amazonaws.com/api/) to access the data.\n",
        "\n",
        "<br>\n",
        "<br>"
      ]
    },
    {
      "cell_type": "markdown",
      "metadata": {
        "id": "b7S_h8z9tPMm",
        "colab_type": "text"
      },
      "source": [
        "# **Imports**"
      ]
    },
    {
      "cell_type": "code",
      "metadata": {
        "id": "PSVpNzCCHB6z",
        "colab_type": "code",
        "colab": {}
      },
      "source": [
        "# Data manipulation imports\n",
        "import pandas as pd \n",
        "import requests\n",
        "\n",
        "#  Data Visualization\n",
        "\n",
        "\n",
        "# Extas"
      ],
      "execution_count": 0,
      "outputs": []
    },
    {
      "cell_type": "markdown",
      "metadata": {
        "id": "7yWPk3efHktk",
        "colab_type": "text"
      },
      "source": [
        "# **Loading Data** \n",
        "\n",
        "## Build a dataframe using the following code:\n",
        "\n",
        "```url = \"INSERT API URL\"``` <br>\n",
        "```headers = {'x-api-key': \"INSERT API KEY HERE\"}```<br>\n",
        "```response = requests.request(\"GET\", url, headers=headers)```<br>\n",
        "```x = response.json()```<br>\n",
        "```df = pd.DataFrame(x)```\n",
        "\n",
        "## **Call the following function to read the data To a Dataframe**\n",
        "\n",
        "\n",
        "```\n",
        "load_covid19(url, API_KEY)\n",
        "```\n",
        "\n",
        "\n",
        "<br>\n",
        "<br>\n"
      ]
    },
    {
      "cell_type": "code",
      "metadata": {
        "id": "vHGuNUfwxp-p",
        "colab_type": "code",
        "colab": {}
      },
      "source": [
        "# CONSTANTS\n",
        "API_KEY = 'WVllUkRA01awNNgKxGg607vl5qIvuOAN3pW9HXmD'\n",
        "\n",
        "# API URLs\n",
        "url_CasesGlobalView = 'https://9gnht4xyvf.execute-api.eu-west-1.amazonaws.com/api/get_table/CasesGlobalView'\n",
        "url_CasesLocalView  = 'https://9gnht4xyvf.execute-api.eu-west-1.amazonaws.com/api/get_table/CasesLocalView'\n",
        "ulr_CounterMeasureView = 'https://9gnht4xyvf.execute-api.eu-west-1.amazonaws.com/api/get_table/CounterMeasureView'"
      ],
      "execution_count": 0,
      "outputs": []
    },
    {
      "cell_type": "code",
      "metadata": {
        "id": "nwl8G_nlpNUo",
        "colab_type": "code",
        "colab": {}
      },
      "source": [
        "def load_covid19(url, API_KEY = 'WVllUkRA01awNNgKxGg607vl5qIvuOAN3pW9HXmD' ):\n",
        "  \"\"\"load_covid19(url)\n",
        "\n",
        "  DESCRIPTION:\n",
        "        The function reads in an API URL for COVID-19 Data and returns a pandas DataFrame.\n",
        "\n",
        "  PARAMETERS:\n",
        "        url (string): API URL.\n",
        "\n",
        "  RETURNS:\n",
        "      (DataFrame): Data in a form of a pandas dataframe.\n",
        "  \n",
        "  \"\"\"\n",
        "\n",
        "  headers = {\n",
        "    'x-api-key': API_KEY\n",
        "    }\n",
        "  response = requests.request(\"GET\", url, headers=headers)\n",
        "  x = response.json()\n",
        "\n",
        "  return pd.DataFrame(x)"
      ],
      "execution_count": 0,
      "outputs": []
    },
    {
      "cell_type": "code",
      "metadata": {
        "id": "UPvsE8CLO8Y3",
        "colab_type": "code",
        "colab": {}
      },
      "source": [
        ""
      ],
      "execution_count": 0,
      "outputs": []
    },
    {
      "cell_type": "code",
      "metadata": {
        "id": "GFrweg2DIAaW",
        "colab_type": "code",
        "colab": {}
      },
      "source": [
        "# Reading Data to DataFrames\n",
        "globa_view = load_covid19(url_CasesGlobalView)\n",
        "local_view = load_covid19(url_CasesLocalView)\n",
        "counterMeasure_view = load_covid19(ulr_CounterMeasureView)\n"
      ],
      "execution_count": 0,
      "outputs": []
    },
    {
      "cell_type": "markdown",
      "metadata": {
        "id": "fw4CJbfnuMar",
        "colab_type": "text"
      },
      "source": [
        "# **Quick Descriptive Analysis**\n",
        "\n",
        "\n",
        "\n"
      ]
    },
    {
      "cell_type": "markdown",
      "metadata": {
        "id": "N8yYTKOgv67m",
        "colab_type": "text"
      },
      "source": [
        "## **CasesGlobalView**"
      ]
    },
    {
      "cell_type": "code",
      "metadata": {
        "id": "XaDg69hNwPWx",
        "colab_type": "code",
        "outputId": "7ae5c66b-7acd-45f8-8cc9-8ae78f8f28b3",
        "colab": {
          "base_uri": "https://localhost:8080/",
          "height": 299
        }
      },
      "source": [
        "# view 5 samples of the data\n",
        "globa_view.sample(5)"
      ],
      "execution_count": 0,
      "outputs": [
        {
          "output_type": "execute_result",
          "data": {
            "text/html": [
              "<div>\n",
              "<style scoped>\n",
              "    .dataframe tbody tr th:only-of-type {\n",
              "        vertical-align: middle;\n",
              "    }\n",
              "\n",
              "    .dataframe tbody tr th {\n",
              "        vertical-align: top;\n",
              "    }\n",
              "\n",
              "    .dataframe thead th {\n",
              "        text-align: right;\n",
              "    }\n",
              "</style>\n",
              "<table border=\"1\" class=\"dataframe\">\n",
              "  <thead>\n",
              "    <tr style=\"text-align: right;\">\n",
              "      <th></th>\n",
              "      <th>date</th>\n",
              "      <th>country</th>\n",
              "      <th>lat</th>\n",
              "      <th>long</th>\n",
              "      <th>confirmed</th>\n",
              "      <th>deaths</th>\n",
              "      <th>recovered</th>\n",
              "      <th>active</th>\n",
              "      <th>confirmed_daily</th>\n",
              "      <th>deaths_daily</th>\n",
              "      <th>recovered_daily</th>\n",
              "      <th>daily_change_in_active_cases</th>\n",
              "      <th>active_dailiy_growth_rate</th>\n",
              "      <th>active_rolling_3_day_growth_rate</th>\n",
              "    </tr>\n",
              "  </thead>\n",
              "  <tbody>\n",
              "    <tr>\n",
              "      <th>4602</th>\n",
              "      <td>2020-03-29</td>\n",
              "      <td>Morocco</td>\n",
              "      <td>31.791700</td>\n",
              "      <td>-7.092600</td>\n",
              "      <td>479</td>\n",
              "      <td>26</td>\n",
              "      <td>13</td>\n",
              "      <td>440</td>\n",
              "      <td>77.0</td>\n",
              "      <td>1.0</td>\n",
              "      <td>2.0</td>\n",
              "      <td>74.0</td>\n",
              "      <td>0.202186</td>\n",
              "      <td>0.197855</td>\n",
              "    </tr>\n",
              "    <tr>\n",
              "      <th>3811</th>\n",
              "      <td>2020-03-19</td>\n",
              "      <td>Kyrgyzstan</td>\n",
              "      <td>41.204400</td>\n",
              "      <td>74.766100</td>\n",
              "      <td>3</td>\n",
              "      <td>0</td>\n",
              "      <td>0</td>\n",
              "      <td>3</td>\n",
              "      <td>0.0</td>\n",
              "      <td>0.0</td>\n",
              "      <td>0.0</td>\n",
              "      <td>0.0</td>\n",
              "      <td>0.000000</td>\n",
              "      <td>NaN</td>\n",
              "    </tr>\n",
              "    <tr>\n",
              "      <th>6458</th>\n",
              "      <td>2020-03-20</td>\n",
              "      <td>Switzerland</td>\n",
              "      <td>46.818200</td>\n",
              "      <td>8.227500</td>\n",
              "      <td>5294</td>\n",
              "      <td>54</td>\n",
              "      <td>15</td>\n",
              "      <td>5225</td>\n",
              "      <td>1219.0</td>\n",
              "      <td>13.0</td>\n",
              "      <td>0.0</td>\n",
              "      <td>1206.0</td>\n",
              "      <td>0.300075</td>\n",
              "      <td>0.250967</td>\n",
              "    </tr>\n",
              "    <tr>\n",
              "      <th>4626</th>\n",
              "      <td>2020-03-31</td>\n",
              "      <td>Mozambique</td>\n",
              "      <td>-18.665695</td>\n",
              "      <td>35.529562</td>\n",
              "      <td>8</td>\n",
              "      <td>0</td>\n",
              "      <td>0</td>\n",
              "      <td>8</td>\n",
              "      <td>0.0</td>\n",
              "      <td>0.0</td>\n",
              "      <td>0.0</td>\n",
              "      <td>0.0</td>\n",
              "      <td>0.000000</td>\n",
              "      <td>0.000000</td>\n",
              "    </tr>\n",
              "    <tr>\n",
              "      <th>4501</th>\n",
              "      <td>2020-03-31</td>\n",
              "      <td>Monaco</td>\n",
              "      <td>43.733300</td>\n",
              "      <td>7.416700</td>\n",
              "      <td>52</td>\n",
              "      <td>1</td>\n",
              "      <td>2</td>\n",
              "      <td>49</td>\n",
              "      <td>3.0</td>\n",
              "      <td>0.0</td>\n",
              "      <td>1.0</td>\n",
              "      <td>2.0</td>\n",
              "      <td>0.042553</td>\n",
              "      <td>0.061217</td>\n",
              "    </tr>\n",
              "  </tbody>\n",
              "</table>\n",
              "</div>"
            ],
            "text/plain": [
              "            date  ... active_rolling_3_day_growth_rate\n",
              "4602  2020-03-29  ...                         0.197855\n",
              "3811  2020-03-19  ...                              NaN\n",
              "6458  2020-03-20  ...                         0.250967\n",
              "4626  2020-03-31  ...                         0.000000\n",
              "4501  2020-03-31  ...                         0.061217\n",
              "\n",
              "[5 rows x 14 columns]"
            ]
          },
          "metadata": {
            "tags": []
          },
          "execution_count": 24
        }
      ]
    },
    {
      "cell_type": "code",
      "metadata": {
        "id": "9anmZwkEyzKf",
        "colab_type": "code",
        "outputId": "84be6bc6-c6eb-4b96-ff52-0a27ce9061c5",
        "colab": {
          "base_uri": "https://localhost:8080/",
          "height": 370
        }
      },
      "source": [
        "# data types\n",
        "globa_view.info()"
      ],
      "execution_count": 0,
      "outputs": [
        {
          "output_type": "stream",
          "text": [
            "<class 'pandas.core.frame.DataFrame'>\n",
            "RangeIndex: 7423 entries, 0 to 7422\n",
            "Data columns (total 14 columns):\n",
            " #   Column                            Non-Null Count  Dtype  \n",
            "---  ------                            --------------  -----  \n",
            " 0   date                              7423 non-null   object \n",
            " 1   country                           7423 non-null   object \n",
            " 2   lat                               7423 non-null   float64\n",
            " 3   long                              7423 non-null   float64\n",
            " 4   confirmed                         7423 non-null   int64  \n",
            " 5   deaths                            7423 non-null   int64  \n",
            " 6   recovered                         7423 non-null   int64  \n",
            " 7   active                            7423 non-null   int64  \n",
            " 8   confirmed_daily                   7238 non-null   float64\n",
            " 9   deaths_daily                      7238 non-null   float64\n",
            " 10  recovered_daily                   7238 non-null   float64\n",
            " 11  daily_change_in_active_cases      7238 non-null   float64\n",
            " 12  active_dailiy_growth_rate         7038 non-null   float64\n",
            " 13  active_rolling_3_day_growth_rate  6668 non-null   float64\n",
            "dtypes: float64(8), int64(4), object(2)\n",
            "memory usage: 812.0+ KB\n"
          ],
          "name": "stdout"
        }
      ]
    },
    {
      "cell_type": "markdown",
      "metadata": {
        "id": "RYnCI6NGwCcK",
        "colab_type": "text"
      },
      "source": [
        "## **CasesLocalView**"
      ]
    },
    {
      "cell_type": "code",
      "metadata": {
        "id": "zd6Bkz35wQUD",
        "colab_type": "code",
        "colab": {}
      },
      "source": [
        ""
      ],
      "execution_count": 0,
      "outputs": []
    },
    {
      "cell_type": "markdown",
      "metadata": {
        "id": "sQ1OqR9UwJ7g",
        "colab_type": "text"
      },
      "source": [
        "## **CounterMeasureView**"
      ]
    },
    {
      "cell_type": "code",
      "metadata": {
        "id": "_3KanPi0wQ-9",
        "colab_type": "code",
        "colab": {}
      },
      "source": [
        ""
      ],
      "execution_count": 0,
      "outputs": []
    },
    {
      "cell_type": "markdown",
      "metadata": {
        "id": "DcvRQ8ksuXT9",
        "colab_type": "text"
      },
      "source": [
        "# **Data Cleanig**\n",
        "\n",
        "\n",
        "*   Set the DATATYPES to reduce memory usage\n",
        "*   Create pipeline To clean the Data\n",
        "*   Pass all the data Stream through the pipeline\n",
        "\n"
      ]
    },
    {
      "cell_type": "code",
      "metadata": {
        "id": "ggip4p8HugIi",
        "colab_type": "code",
        "colab": {}
      },
      "source": [
        ""
      ],
      "execution_count": 0,
      "outputs": []
    },
    {
      "cell_type": "markdown",
      "metadata": {
        "id": "Y62bFB7Fus3i",
        "colab_type": "text"
      },
      "source": [
        "# **Visualizations**"
      ]
    }
  ]
}